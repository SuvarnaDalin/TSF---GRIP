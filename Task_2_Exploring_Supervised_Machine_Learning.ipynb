{
  "nbformat": 4,
  "nbformat_minor": 0,
  "metadata": {
    "colab": {
      "name": "Task #2 - Exploring Supervised Machine Learning.ipynb",
      "provenance": [],
      "collapsed_sections": []
    },
    "kernelspec": {
      "name": "python3",
      "display_name": "Python 3"
    }
  },
  "cells": [
    {
      "cell_type": "markdown",
      "metadata": {
        "id": "IzX4Vs7DlQrK",
        "colab_type": "text"
      },
      "source": [
        "# **Task # 2 - Explore Supervised Machine Learning**"
      ]
    },
    {
      "cell_type": "markdown",
      "metadata": {
        "id": "MEenXh0lZcR8",
        "colab_type": "text"
      },
      "source": [
        "**Objective**:\n",
        "In this regression task we will predict the percentage of\n",
        "marks that a student is expected to score based upon the\n",
        "number of hours they studied. This is a simple linear\n",
        "regression task as it involves just two variables.\n",
        "\n",
        "Data can be found at http://bit.ly/w-data\n",
        "\n",
        "> **Problem Statement**: \n",
        "What will be predicted score if a student study for 9.25 hrs in a\n",
        "day?\n"
      ]
    },
    {
      "cell_type": "code",
      "metadata": {
        "id": "XOCkxJ8Qaq2W",
        "colab_type": "code",
        "colab": {
          "base_uri": "https://localhost:8080/",
          "height": 74
        },
        "outputId": "55380686-8f5f-439d-a5ec-6981b8eaf92f"
      },
      "source": [
        "# Importing the required libraries\n",
        "import pandas as pd\n",
        "import numpy as np  \n",
        "import matplotlib.pyplot as plt  \n",
        "import seaborn as sns\n",
        "from sklearn.metrics import mean_absolute_error\n",
        "from sklearn.model_selection import train_test_split\n",
        "from sklearn.linear_model import LinearRegression\n",
        "%matplotlib inline\n"
      ],
      "execution_count": 1,
      "outputs": [
        {
          "output_type": "stream",
          "text": [
            "/usr/local/lib/python3.6/dist-packages/statsmodels/tools/_testing.py:19: FutureWarning: pandas.util.testing is deprecated. Use the functions in the public API at pandas.testing instead.\n",
            "  import pandas.util.testing as tm\n"
          ],
          "name": "stderr"
        }
      ]
    },
    {
      "cell_type": "code",
      "metadata": {
        "id": "cCgv1i4mZdpA",
        "colab_type": "code",
        "colab": {
          "base_uri": "https://localhost:8080/",
          "height": 834
        },
        "outputId": "c2da1d16-84fc-4917-9b77-3589c652a6be"
      },
      "source": [
        "# Reading and displaying the data from external link\n",
        "data_url = \"http://bit.ly/w-data\"\n",
        "hr_score_data = pd.read_csv(data_url)\n",
        "hr_score_data"
      ],
      "execution_count": 2,
      "outputs": [
        {
          "output_type": "execute_result",
          "data": {
            "text/html": [
              "<div>\n",
              "<style scoped>\n",
              "    .dataframe tbody tr th:only-of-type {\n",
              "        vertical-align: middle;\n",
              "    }\n",
              "\n",
              "    .dataframe tbody tr th {\n",
              "        vertical-align: top;\n",
              "    }\n",
              "\n",
              "    .dataframe thead th {\n",
              "        text-align: right;\n",
              "    }\n",
              "</style>\n",
              "<table border=\"1\" class=\"dataframe\">\n",
              "  <thead>\n",
              "    <tr style=\"text-align: right;\">\n",
              "      <th></th>\n",
              "      <th>Hours</th>\n",
              "      <th>Scores</th>\n",
              "    </tr>\n",
              "  </thead>\n",
              "  <tbody>\n",
              "    <tr>\n",
              "      <th>0</th>\n",
              "      <td>2.5</td>\n",
              "      <td>21</td>\n",
              "    </tr>\n",
              "    <tr>\n",
              "      <th>1</th>\n",
              "      <td>5.1</td>\n",
              "      <td>47</td>\n",
              "    </tr>\n",
              "    <tr>\n",
              "      <th>2</th>\n",
              "      <td>3.2</td>\n",
              "      <td>27</td>\n",
              "    </tr>\n",
              "    <tr>\n",
              "      <th>3</th>\n",
              "      <td>8.5</td>\n",
              "      <td>75</td>\n",
              "    </tr>\n",
              "    <tr>\n",
              "      <th>4</th>\n",
              "      <td>3.5</td>\n",
              "      <td>30</td>\n",
              "    </tr>\n",
              "    <tr>\n",
              "      <th>5</th>\n",
              "      <td>1.5</td>\n",
              "      <td>20</td>\n",
              "    </tr>\n",
              "    <tr>\n",
              "      <th>6</th>\n",
              "      <td>9.2</td>\n",
              "      <td>88</td>\n",
              "    </tr>\n",
              "    <tr>\n",
              "      <th>7</th>\n",
              "      <td>5.5</td>\n",
              "      <td>60</td>\n",
              "    </tr>\n",
              "    <tr>\n",
              "      <th>8</th>\n",
              "      <td>8.3</td>\n",
              "      <td>81</td>\n",
              "    </tr>\n",
              "    <tr>\n",
              "      <th>9</th>\n",
              "      <td>2.7</td>\n",
              "      <td>25</td>\n",
              "    </tr>\n",
              "    <tr>\n",
              "      <th>10</th>\n",
              "      <td>7.7</td>\n",
              "      <td>85</td>\n",
              "    </tr>\n",
              "    <tr>\n",
              "      <th>11</th>\n",
              "      <td>5.9</td>\n",
              "      <td>62</td>\n",
              "    </tr>\n",
              "    <tr>\n",
              "      <th>12</th>\n",
              "      <td>4.5</td>\n",
              "      <td>41</td>\n",
              "    </tr>\n",
              "    <tr>\n",
              "      <th>13</th>\n",
              "      <td>3.3</td>\n",
              "      <td>42</td>\n",
              "    </tr>\n",
              "    <tr>\n",
              "      <th>14</th>\n",
              "      <td>1.1</td>\n",
              "      <td>17</td>\n",
              "    </tr>\n",
              "    <tr>\n",
              "      <th>15</th>\n",
              "      <td>8.9</td>\n",
              "      <td>95</td>\n",
              "    </tr>\n",
              "    <tr>\n",
              "      <th>16</th>\n",
              "      <td>2.5</td>\n",
              "      <td>30</td>\n",
              "    </tr>\n",
              "    <tr>\n",
              "      <th>17</th>\n",
              "      <td>1.9</td>\n",
              "      <td>24</td>\n",
              "    </tr>\n",
              "    <tr>\n",
              "      <th>18</th>\n",
              "      <td>6.1</td>\n",
              "      <td>67</td>\n",
              "    </tr>\n",
              "    <tr>\n",
              "      <th>19</th>\n",
              "      <td>7.4</td>\n",
              "      <td>69</td>\n",
              "    </tr>\n",
              "    <tr>\n",
              "      <th>20</th>\n",
              "      <td>2.7</td>\n",
              "      <td>30</td>\n",
              "    </tr>\n",
              "    <tr>\n",
              "      <th>21</th>\n",
              "      <td>4.8</td>\n",
              "      <td>54</td>\n",
              "    </tr>\n",
              "    <tr>\n",
              "      <th>22</th>\n",
              "      <td>3.8</td>\n",
              "      <td>35</td>\n",
              "    </tr>\n",
              "    <tr>\n",
              "      <th>23</th>\n",
              "      <td>6.9</td>\n",
              "      <td>76</td>\n",
              "    </tr>\n",
              "    <tr>\n",
              "      <th>24</th>\n",
              "      <td>7.8</td>\n",
              "      <td>86</td>\n",
              "    </tr>\n",
              "  </tbody>\n",
              "</table>\n",
              "</div>"
            ],
            "text/plain": [
              "    Hours  Scores\n",
              "0     2.5      21\n",
              "1     5.1      47\n",
              "2     3.2      27\n",
              "3     8.5      75\n",
              "4     3.5      30\n",
              "5     1.5      20\n",
              "6     9.2      88\n",
              "7     5.5      60\n",
              "8     8.3      81\n",
              "9     2.7      25\n",
              "10    7.7      85\n",
              "11    5.9      62\n",
              "12    4.5      41\n",
              "13    3.3      42\n",
              "14    1.1      17\n",
              "15    8.9      95\n",
              "16    2.5      30\n",
              "17    1.9      24\n",
              "18    6.1      67\n",
              "19    7.4      69\n",
              "20    2.7      30\n",
              "21    4.8      54\n",
              "22    3.8      35\n",
              "23    6.9      76\n",
              "24    7.8      86"
            ]
          },
          "metadata": {
            "tags": []
          },
          "execution_count": 2
        }
      ]
    },
    {
      "cell_type": "code",
      "metadata": {
        "id": "rkT1Dx4efjHn",
        "colab_type": "code",
        "colab": {
          "base_uri": "https://localhost:8080/",
          "height": 35
        },
        "outputId": "f4656d4e-48c0-40e3-9cb1-546a726f4cd1"
      },
      "source": [
        "hr_score_data.columns"
      ],
      "execution_count": 3,
      "outputs": [
        {
          "output_type": "execute_result",
          "data": {
            "text/plain": [
              "Index(['Hours', 'Scores'], dtype='object')"
            ]
          },
          "metadata": {
            "tags": []
          },
          "execution_count": 3
        }
      ]
    },
    {
      "cell_type": "markdown",
      "metadata": {
        "id": "ghoabYx1pDmW",
        "colab_type": "text"
      },
      "source": [
        "**Simple Linear Regression Model: y = bX + c**"
      ]
    },
    {
      "cell_type": "code",
      "metadata": {
        "id": "vCggkVKdgt9A",
        "colab_type": "code",
        "colab": {}
      },
      "source": [
        "# Create target object and call it y\n",
        "y = hr_score_data.Scores\n",
        "# Create X\n",
        "X = hr_score_data.Hours"
      ],
      "execution_count": 4,
      "outputs": []
    },
    {
      "cell_type": "markdown",
      "metadata": {
        "id": "EtHmImXbfGN5",
        "colab_type": "text"
      },
      "source": [
        "**Plotting the data to identify the relationship between X ('Hours') and y ('Scores')**"
      ]
    },
    {
      "cell_type": "code",
      "metadata": {
        "id": "zjSdIMGnZOMp",
        "colab_type": "code",
        "colab": {
          "base_uri": "https://localhost:8080/",
          "height": 295
        },
        "outputId": "e51a0dfb-2e80-4df9-dfb9-8ac85f6c6e3c"
      },
      "source": [
        "# Lets do a simple scatter plot\n",
        "#hr_score_data.plot(x = 'Hours', y = 'Scores', style = 'o')\n",
        "plt.scatter(X, y, c = 'red')\n",
        "plt.title(\"Scatter Plot of Hours versus Scores\")\n",
        "plt.xlabel(\"Hours\")\n",
        "plt.ylabel(\"Scores\")\n",
        "plt.show()\n"
      ],
      "execution_count": 5,
      "outputs": [
        {
          "output_type": "display_data",
          "data": {
            "image/png": "[encoded data removed]",
            "text/plain": [
              "<Figure size 432x288 with 1 Axes>"
            ]
          },
          "metadata": {
            "tags": [],
            "needs_background": "light"
          }
        }
      ]
    },
    {
      "cell_type": "code",
      "metadata": {
        "id": "um-LzPf9NTmB",
        "colab_type": "code",
        "colab": {
          "base_uri": "https://localhost:8080/",
          "height": 298
        },
        "outputId": "562aee09-0a07-4309-c147-cc4c8d55e5a0"
      },
      "source": [
        "# Lets do the Scatter Plot showing the Regression Line\n",
        "plt.figure()\n",
        "sns.regplot(X, y, fit_reg = True)\n",
        "plt.scatter(np.mean(X), np.mean(y), color = \"red\" )"
      ],
      "execution_count": 6,
      "outputs": [
        {
          "output_type": "execute_result",
          "data": {
            "text/plain": [
              "<matplotlib.collections.PathCollection at 0x7f9847697e10>"
            ]
          },
          "metadata": {
            "tags": []
          },
          "execution_count": 6
        },
        {
          "output_type": "display_data",
          "data": {
            "image/png": "[encoded data removed]",
            "text/plain": [
              "<Figure size 432x288 with 1 Axes>"
            ]
          },
          "metadata": {
            "tags": [],
            "needs_background": "light"
          }
        }
      ]
    },
    {
      "cell_type": "markdown",
      "metadata": {
        "id": "mi60podZqsjK",
        "colab_type": "text"
      },
      "source": [
        "**Due to the positive linear relationship between the X and y variables a Linear Regressor can be used to fit the model**"
      ]
    },
    {
      "cell_type": "code",
      "metadata": {
        "id": "bST3xcNkhkUT",
        "colab_type": "code",
        "colab": {}
      },
      "source": [
        "# Preparing the Data\n",
        "X = hr_score_data.iloc[:, :-1].values  \n",
        "y = hr_score_data.iloc[:, 1].values  \n",
        "\n",
        "# Split into validation and training data\n",
        "train_X, val_X, train_y, val_y = train_test_split(X, y, test_size= 0.2, random_state = 100)"
      ],
      "execution_count": 7,
      "outputs": []
    },
    {
      "cell_type": "code",
      "metadata": {
        "id": "qJuOS8K-QKPy",
        "colab_type": "code",
        "colab": {
          "base_uri": "https://localhost:8080/",
          "height": 35
        },
        "outputId": "e3200c0f-b997-453b-8ec9-2b33933baa3e"
      },
      "source": [
        "train_X.shape, val_X.shape, train_y.shape, val_y.shape"
      ],
      "execution_count": 8,
      "outputs": [
        {
          "output_type": "execute_result",
          "data": {
            "text/plain": [
              "((20, 1), (5, 1), (20,), (5,))"
            ]
          },
          "metadata": {
            "tags": []
          },
          "execution_count": 8
        }
      ]
    },
    {
      "cell_type": "markdown",
      "metadata": {
        "id": "HBNPNdN3AYip",
        "colab_type": "text"
      },
      "source": [
        "**Training & Fitting the algorithm  using LinearRegression() Model**"
      ]
    },
    {
      "cell_type": "code",
      "metadata": {
        "id": "D8gxugjyBX2-",
        "colab_type": "code",
        "colab": {
          "base_uri": "https://localhost:8080/",
          "height": 55
        },
        "outputId": "8690feda-ae01-4b86-abff-28ef05e21a85"
      },
      "source": [
        "# Specify Model\n",
        "LR_model = LinearRegression()\n",
        "\n",
        "# Fit Model\n",
        "LR_model.fit(train_X, train_y)"
      ],
      "execution_count": 9,
      "outputs": [
        {
          "output_type": "execute_result",
          "data": {
            "text/plain": [
              "LinearRegression(copy_X=True, fit_intercept=True, n_jobs=None, normalize=False)"
            ]
          },
          "metadata": {
            "tags": []
          },
          "execution_count": 9
        }
      ]
    },
    {
      "cell_type": "markdown",
      "metadata": {
        "id": "WetZ0XPXS1py",
        "colab_type": "text"
      },
      "source": [
        "**Making Validation Predictions**"
      ]
    },
    {
      "cell_type": "code",
      "metadata": {
        "id": "ZV6izyqsRwEA",
        "colab_type": "code",
        "colab": {
          "base_uri": "https://localhost:8080/",
          "height": 35
        },
        "outputId": "8ac98da3-e944-4f56-ad07-f41c14e22952"
      },
      "source": [
        "val_predictions = LR_model.predict(val_X)\n",
        "val_predictions"
      ],
      "execution_count": 10,
      "outputs": [
        {
          "output_type": "execute_result",
          "data": {
            "text/plain": [
              "array([28.54512294, 39.36411177, 34.44638957, 60.01854497, 16.74258969])"
            ]
          },
          "metadata": {
            "tags": []
          },
          "execution_count": 10
        }
      ]
    },
    {
      "cell_type": "code",
      "metadata": {
        "id": "NzulwS78TSpK",
        "colab_type": "code",
        "colab": {
          "base_uri": "https://localhost:8080/",
          "height": 206
        },
        "outputId": "3d5b860b-a38b-4d27-b9d6-cc006ca62f7c"
      },
      "source": [
        "# Comparison of Actual vs Predicted\n",
        "LR_df = pd.DataFrame({'Actual': val_y, 'Predicted': val_predictions}) \n",
        "LR_df "
      ],
      "execution_count": 11,
      "outputs": [
        {
          "output_type": "execute_result",
          "data": {
            "text/html": [
              "<div>\n",
              "<style scoped>\n",
              "    .dataframe tbody tr th:only-of-type {\n",
              "        vertical-align: middle;\n",
              "    }\n",
              "\n",
              "    .dataframe tbody tr th {\n",
              "        vertical-align: top;\n",
              "    }\n",
              "\n",
              "    .dataframe thead th {\n",
              "        text-align: right;\n",
              "    }\n",
              "</style>\n",
              "<table border=\"1\" class=\"dataframe\">\n",
              "  <thead>\n",
              "    <tr style=\"text-align: right;\">\n",
              "      <th></th>\n",
              "      <th>Actual</th>\n",
              "      <th>Predicted</th>\n",
              "    </tr>\n",
              "  </thead>\n",
              "  <tbody>\n",
              "    <tr>\n",
              "      <th>0</th>\n",
              "      <td>25</td>\n",
              "      <td>28.545123</td>\n",
              "    </tr>\n",
              "    <tr>\n",
              "      <th>1</th>\n",
              "      <td>35</td>\n",
              "      <td>39.364112</td>\n",
              "    </tr>\n",
              "    <tr>\n",
              "      <th>2</th>\n",
              "      <td>42</td>\n",
              "      <td>34.446390</td>\n",
              "    </tr>\n",
              "    <tr>\n",
              "      <th>3</th>\n",
              "      <td>62</td>\n",
              "      <td>60.018545</td>\n",
              "    </tr>\n",
              "    <tr>\n",
              "      <th>4</th>\n",
              "      <td>20</td>\n",
              "      <td>16.742590</td>\n",
              "    </tr>\n",
              "  </tbody>\n",
              "</table>\n",
              "</div>"
            ],
            "text/plain": [
              "   Actual  Predicted\n",
              "0      25  28.545123\n",
              "1      35  39.364112\n",
              "2      42  34.446390\n",
              "3      62  60.018545\n",
              "4      20  16.742590"
            ]
          },
          "metadata": {
            "tags": []
          },
          "execution_count": 11
        }
      ]
    },
    {
      "cell_type": "markdown",
      "metadata": {
        "id": "qh66_bhgYo6z",
        "colab_type": "text"
      },
      "source": [
        "**Model Evaluation:** To check the accuracy of the above predictions lets use the mean_absolute_error(). Lower the error, higher will be the accuracy of predictions"
      ]
    },
    {
      "cell_type": "code",
      "metadata": {
        "id": "KgVbKjsVYnjl",
        "colab_type": "code",
        "colab": {
          "base_uri": "https://localhost:8080/",
          "height": 35
        },
        "outputId": "3f792b41-5df3-49ab-9cf2-0d1c2b380337"
      },
      "source": [
        "val_mae = mean_absolute_error(val_predictions, val_y)\n",
        "MAE = np.round(val_mae, 2)\n",
        "print(\"The Validation MAE for the above predictions is: {}\".format(MAE))"
      ],
      "execution_count": 12,
      "outputs": [
        {
          "output_type": "stream",
          "text": [
            "The Validation MAE for the above predictions is: 4.14\n"
          ],
          "name": "stdout"
        }
      ]
    },
    {
      "cell_type": "markdown",
      "metadata": {
        "id": "FSCpjfoxg-ep",
        "colab_type": "text"
      },
      "source": [
        "The low value of MAE shows acceptable accuracy rate."
      ]
    },
    {
      "cell_type": "markdown",
      "metadata": {
        "id": "UpBUHCSEYgKc",
        "colab_type": "text"
      },
      "source": [
        "**Problem Statement: What will be predicted score if a student study for 9.25 hrs in a day?**"
      ]
    },
    {
      "cell_type": "code",
      "metadata": {
        "id": "eSuktGMcUH73",
        "colab_type": "code",
        "colab": {
          "base_uri": "https://localhost:8080/",
          "height": 74
        },
        "outputId": "c82f2a1d-b891-462c-e184-172cba3ccf84"
      },
      "source": [
        "hours_per_day = 9.25\n",
        "Hour = np.array(hours_per_day).reshape(-1, 1)\n",
        "pred_score = LR_model.predict(Hour)\n",
        "print(\"No of Hours/day = {}\".format(hours_per_day))\n",
        "print(\"Predicted Score of the Student = {} for a Mean Absolute Error of {}\".format(pred_score[0], MAE))"
      ],
      "execution_count": 15,
      "outputs": [
        {
          "output_type": "stream",
          "text": [
            "No of Hours/day = 9.25\n",
            "Predicted Score of the Student = 92.96728365185982 for a Mean Absolute Error of 4.14\n"
          ],
          "name": "stdout"
        }
      ]
    },
    {
      "cell_type": "markdown",
      "metadata": {
        "id": "yKLOcgAJkzZY",
        "colab_type": "text"
      },
      "source": [
        "######################################################################################################"
      ]
    }
  ]
}